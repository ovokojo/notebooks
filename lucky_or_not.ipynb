{
 "cells": [
  {
   "cell_type": "markdown",
   "metadata": {},
   "source": [
    "## Is my multiple choice test result better than random guessing?"
   ]
  },
  {
   "cell_type": "markdown",
   "metadata": {},
   "source": [
    "<b>Hypothesis ($H_1$):</b> my score of 9 / 17 (~53%) in a multiple choice quiz with 3 selections is better than random guessing.\n",
    "\n",
    "<b>Null Hypothesis ($H_0$):</b> my score is no better than random guessing"
   ]
  },
  {
   "cell_type": "code",
   "execution_count": 7,
   "metadata": {},
   "outputs": [],
   "source": [
    "import random\n",
    "import numpy as np\n",
    "import scipy.stats as stats\n",
    "from scipy.stats import norm\n",
    "import matplotlib.pyplot as graph\n",
    "from collections import Counter"
   ]
  },
  {
   "cell_type": "code",
   "execution_count": 2,
   "metadata": {},
   "outputs": [],
   "source": [
    "# Function to generate quiz x times with random answers\n",
    "\n",
    "def quizzer(n):\n",
    "    results = []\n",
    "    for i in range(1,n+1):\n",
    "        random_answers = []\n",
    "        for x in range(1,18):\n",
    "            random_answers.append(random.randrange(1,4))\n",
    "        results.append(random_answers)\n",
    "    return results\n",
    "\n",
    "def checker(results):\n",
    "    answers = [3,1,3,3,3,3,2,2,2,2,2,3,2,3,2,1,1] #Answers to the quiz \n",
    "    score = []\n",
    "    for result in results:\n",
    "        grade = 0\n",
    "        for i,a in enumerate(result):\n",
    "            if answers[i] == a:\n",
    "                grade += 1\n",
    "        score.append(grade)\n",
    "    return score"
   ]
  },
  {
   "cell_type": "code",
   "execution_count": 21,
   "metadata": {},
   "outputs": [
    {
     "name": "stdout",
     "output_type": "stream",
     "text": [
      "CPU times: user 19.5 s, sys: 241 ms, total: 19.7 s\n",
      "Wall time: 19.9 s\n"
     ]
    }
   ],
   "source": [
    "%%time\n",
    "# Let computer do quiz 1 million times \n",
    "result_a = checker(quizzer(1000000))"
   ]
  },
  {
   "cell_type": "code",
   "execution_count": 22,
   "metadata": {},
   "outputs": [
    {
     "name": "stdout",
     "output_type": "stream",
     "text": [
      "Counter({5: 196730, 6: 196476, 7: 153163, 4: 150933, 8: 96864, 3: 86101, 9: 48219, 2: 34534, 10: 19245, 1: 8563, 11: 6237, 12: 1584, 0: 980, 13: 322, 14: 46, 15: 2, 16: 1})\n"
     ]
    }
   ],
   "source": [
    "# Check results\n",
    "result_counts = Counter(result_a)\n",
    "print(result_counts)"
   ]
  },
  {
   "cell_type": "code",
   "execution_count": 24,
   "metadata": {},
   "outputs": [],
   "source": [
    "# Get summary stats\n",
    "mean = np.mean(result_a)\n",
    "std = np.std(result_a)"
   ]
  },
  {
   "cell_type": "code",
   "execution_count": 26,
   "metadata": {},
   "outputs": [
    {
     "data": {
      "image/png": "[encoded data removed]",
      "text/plain": [
       "<Figure size 432x288 with 1 Axes>"
      ]
     },
     "metadata": {
      "needs_background": "light"
     },
     "output_type": "display_data"
    },
    {
     "name": "stdout",
     "output_type": "stream",
     "text": [
      "Mean: 5.668137\n",
      "Standard Deviation: 1.9446284861718444\n"
     ]
    }
   ],
   "source": [
    "# Plot results\n",
    "graph.hist(result_a, bins=12)\n",
    "graph.title(\"Random Quiz Results\")\n",
    "graph.axvline(mean, color='black', linestyle='solid')\n",
    "graph.axvline(mean-std, color='red', linestyle='dashed')\n",
    "graph.axvline(mean+std, color='red', linestyle='dashed')\n",
    "graph.show();\n",
    "\n",
    "print(f'Mean: {mean}')\n",
    "print(f'Standard Deviation: {std}')"
   ]
  },
  {
   "cell_type": "code",
   "execution_count": 27,
   "metadata": {},
   "outputs": [
    {
     "name": "stdout",
     "output_type": "stream",
     "text": [
      "z-score: 1.7133673725818124\n",
      "p-value: 0.04332248743372069\n"
     ]
    }
   ],
   "source": [
    "#Calculate z score\n",
    "z_score = (9 - mean)/std\n",
    "print(f'z-score: {z_score}')\n",
    "\n",
    "#Calculate p value using cumulative distribution function\n",
    "print(f'p-value: {1 - norm.cdf(z_score)}')"
   ]
  },
  {
   "cell_type": "markdown",
   "metadata": {},
   "source": [
    "We can therefore reject the null hypothesis that my quiz score was no better than random guessing :)"
   ]
  },
  {
   "cell_type": "code",
   "execution_count": null,
   "metadata": {},
   "outputs": [],
   "source": []
  }
 ],
 "metadata": {
  "kernelspec": {
   "display_name": "Python 3",
   "language": "python",
   "name": "python3"
  },
  "language_info": {
   "codemirror_mode": {
    "name": "ipython",
    "version": 3
   },
   "file_extension": ".py",
   "mimetype": "text/x-python",
   "name": "python",
   "nbconvert_exporter": "python",
   "pygments_lexer": "ipython3",
   "version": "3.6.7"
  }
 },
 "nbformat": 4,
 "nbformat_minor": 2
}
